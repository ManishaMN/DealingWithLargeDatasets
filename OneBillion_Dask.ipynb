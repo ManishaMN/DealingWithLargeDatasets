{
 "cells": [
  {
   "cell_type": "code",
   "execution_count": 2,
   "id": "f39bc6df",
   "metadata": {},
   "outputs": [],
   "source": [
    "import dask.dataframe as dd\n",
    "import time"
   ]
  },
  {
   "cell_type": "code",
   "execution_count": 3,
   "id": "49cc6c9d",
   "metadata": {},
   "outputs": [
    {
     "name": "stdout",
     "output_type": "stream",
     "text": [
      "Maximum temperature: 99.9\n",
      "Time taken: 477.49610137939453 seconds\n"
     ]
    }
   ],
   "source": [
    "import dask.dataframe as dd\n",
    "import time\n",
    "\n",
    "# Specify the column names and their data types\n",
    "# Assuming 'temperature' is of type float64 for this example\n",
    "dtype_dic = {'city': 'object', 'temperature': 'float64'}\n",
    "colnames = ['city', 'temperature']\n",
    "\n",
    "# Measure the start time for loading the data and finding the max temperature\n",
    "start_time = time.time()\n",
    "\n",
    "# Load the data using Dask DataFrame\n",
    "dask_df = dd.read_csv('Final/measurements.txt', dtype=dtype_dic, header=None, sep=';', names=colnames)\n",
    "\n",
    "# Compute the max temperature across the entire dataset\n",
    "max_temp = dask_df['temperature'].max().compute()\n",
    "\n",
    "# Measure the end time and calculate the duration\n",
    "end_time = time.time()\n",
    "duration = end_time - start_time\n",
    "\n",
    "# Print the results\n",
    "print(f\"Maximum temperature: {max_temp}\")\n",
    "print(f\"Time taken: {duration} seconds\")\n"
   ]
  },
  {
   "cell_type": "code",
   "execution_count": null,
   "id": "0825914c",
   "metadata": {},
   "outputs": [],
   "source": []
  }
 ],
 "metadata": {
  "kernelspec": {
   "display_name": "Python 3 (ipykernel)",
   "language": "python",
   "name": "python3"
  },
  "language_info": {
   "codemirror_mode": {
    "name": "ipython",
    "version": 3
   },
   "file_extension": ".py",
   "mimetype": "text/x-python",
   "name": "python",
   "nbconvert_exporter": "python",
   "pygments_lexer": "ipython3",
   "version": "3.10.9"
  }
 },
 "nbformat": 4,
 "nbformat_minor": 5
}
